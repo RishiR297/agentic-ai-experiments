{
 "cells": [
  {
   "cell_type": "code",
   "execution_count": null,
   "id": "8188299a",
   "metadata": {},
   "outputs": [],
   "source": [
    "import os\n",
    "from dotenv import load_dotenv\n",
    "from openai import AzureOpenAI\n",
    "from langchain_core.messages import HumanMessage, AIMessage\n",
    "\n",
    "from langgraph.graph import END, StateGraph\n",
    "\n",
    "from typing import TypedDict, List, Annotated\n",
    "import operator"
   ]
  },
  {
   "cell_type": "code",
   "execution_count": 2,
   "id": "5e65ea18",
   "metadata": {},
   "outputs": [],
   "source": [
    "# Load API key from .env\n",
    "load_dotenv()\n",
    "\n",
    "# Set up Azure OpenAI client\n",
    "client = AzureOpenAI(\n",
    "    api_key=os.getenv(\"AZURE_OPENAI_KEY\"),\n",
    "    api_version=\"2024-02-15-preview\",\n",
    "    azure_endpoint=\"https://exquitech-openai-2.openai.azure.com/\"\n",
    ")"
   ]
  },
  {
   "cell_type": "code",
   "execution_count": 3,
   "id": "14ff29ce",
   "metadata": {},
   "outputs": [],
   "source": [
    "class Message(TypedDict):\n",
    "    role: str\n",
    "    content: str\n",
    "\n",
    "class State(TypedDict):\n",
    "    messages: List[Message]"
   ]
  },
  {
   "cell_type": "code",
   "execution_count": 4,
   "id": "580f1793",
   "metadata": {},
   "outputs": [],
   "source": [
    "# State type: a simple dict that stores messages\n",
    "def chat_node(state):\n",
    "    messages = state[\"messages\"]\n",
    "    print(\"messages: \", messages)\n",
    "    \n",
    "    # Convert messages to OpenAI format\n",
    "    chat_response = client.chat.completions.create(\n",
    "        model=\"gpt-4o-mini\",\n",
    "        messages=messages,\n",
    "    )\n",
    "    \n",
    "    reply = chat_response.choices[0].message.content\n",
    "    print(\"reply: \", reply)\n",
    "    \n",
    "    # Add reply to messages and return updated state\n",
    "    return {\"messages\": messages + [{\"role\": \"assistant\", \"content\": reply}]}\n",
    "\n"
   ]
  },
  {
   "cell_type": "code",
   "execution_count": null,
   "id": "d1b4fd44",
   "metadata": {},
   "outputs": [
    {
     "data": {
      "text/plain": [
       "<langgraph.graph.state.StateGraph at 0x192f831d700>"
      ]
     },
     "execution_count": 5,
     "metadata": {},
     "output_type": "execute_result"
    }
   ],
   "source": [
    "# Define LangGraph structure with state schema\n",
    "builder = StateGraph(State)             # Creates a new StateGraph with the defined State schema.\n",
    "\n",
    "builder.add_node(\"chat\", chat_node)     # Adds a node named \"chat\" that runs the chat_node function.\n",
    "builder.set_entry_point(\"chat\")         # Sets the \"chat\" node as the entry point (where execution starts).\n",
    "builder.add_edge(\"chat\", END)           # Adds an edge from \"chat\" to END, indicating the graph ends after the chat node finishes.\n"
   ]
  },
  {
   "cell_type": "code",
   "execution_count": null,
   "id": "28413ed0",
   "metadata": {},
   "outputs": [],
   "source": [
    "# Converts the graph structure into a runnable object.\n",
    "graph = builder.compile()               # This step prepares the graph to be invoked with an initial state."
   ]
  },
  {
   "cell_type": "code",
   "execution_count": null,
   "id": "e8bd9b47",
   "metadata": {},
   "outputs": [
    {
     "name": "stdout",
     "output_type": "stream",
     "text": [
      "messages:  [{'role': 'user', 'content': 'What is the capital of France?'}]\n",
      "reply:  The capital of France is Paris.\n"
     ]
    }
   ],
   "source": [
    "# Run the graph\n",
    "initial_state = {\n",
    "    \"messages\": [{\"role\": \"user\", \"content\": \"What is the capital of France?\"}]\n",
    "}\n",
    "\n",
    "final_state = graph.invoke(initial_state)"
   ]
  },
  {
   "cell_type": "markdown",
   "id": "ca194c26",
   "metadata": {},
   "source": [
    "- Starts the graph with an initial chat message from the user.\n",
    "\n",
    "- Invokes the graph, which runs the chat_node once (the only node).\n",
    "\n",
    "- The state flows through the node, OpenAI is queried, and a new assistant message is appended.\n",
    "\n",
    "- The graph ends and returns the final state."
   ]
  },
  {
   "cell_type": "code",
   "execution_count": 8,
   "id": "c2c71264",
   "metadata": {},
   "outputs": [
    {
     "name": "stdout",
     "output_type": "stream",
     "text": [
      "The capital of France is Paris.\n"
     ]
    }
   ],
   "source": [
    "# Print the result\n",
    "print(final_state[\"messages\"][-1][\"content\"])"
   ]
  },
  {
   "cell_type": "markdown",
   "id": "e1a4368b",
   "metadata": {},
   "source": [
    "- Prints the last message content, which is the assistant's reply to the question.\n",
    "\n",
    "- For the example, you’d expect \"Paris\" or a similar answer from GPT-4o-mini."
   ]
  },
  {
   "cell_type": "code",
   "execution_count": 14,
   "id": "e1136317",
   "metadata": {},
   "outputs": [
    {
     "name": "stdout",
     "output_type": "stream",
     "text": [
      "{'messages': [{'role': 'user', 'content': 'What is the capital of France?'}, {'role': 'assistant', 'content': 'The capital of France is Paris.'}]}\n",
      "\n",
      "\n",
      "[{'role': 'user', 'content': 'What is the capital of France?'}, {'role': 'assistant', 'content': 'The capital of France is Paris.'}]\n",
      "\n",
      "\n",
      "{'role': 'assistant', 'content': 'The capital of France is Paris.'}\n",
      "\n",
      "\n",
      "The capital of France is Paris.\n",
      "\n",
      "\n"
     ]
    }
   ],
   "source": [
    "print(final_state)\n",
    "print(\"\\n\")\n",
    "print(final_state[\"messages\"])\n",
    "print(\"\\n\")\n",
    "print(final_state[\"messages\"][-1])\n",
    "print(\"\\n\")\n",
    "print(final_state[\"messages\"][-1][\"content\"])\n",
    "print(\"\\n\")"
   ]
  }
 ],
 "metadata": {
  "kernelspec": {
   "display_name": "Python 3",
   "language": "python",
   "name": "python3"
  },
  "language_info": {
   "codemirror_mode": {
    "name": "ipython",
    "version": 3
   },
   "file_extension": ".py",
   "mimetype": "text/x-python",
   "name": "python",
   "nbconvert_exporter": "python",
   "pygments_lexer": "ipython3",
   "version": "3.12.1"
  }
 },
 "nbformat": 4,
 "nbformat_minor": 5
}
